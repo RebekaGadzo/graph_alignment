{
 "cells": [
  {
   "cell_type": "code",
   "execution_count": 1,
   "metadata": {},
   "outputs": [],
   "source": [
    "#! pip install pandas\n",
    "import warnings\n",
    "warnings.filterwarnings(\"ignore\")\n",
    "import pandas as pd"
   ]
  },
  {
   "attachments": {},
   "cell_type": "markdown",
   "metadata": {},
   "source": [
    "Load and Process Data"
   ]
  },
  {
   "cell_type": "code",
   "execution_count": 2,
   "metadata": {},
   "outputs": [],
   "source": [
    "scm_path = \"../data_preparation/data/SCM_prep_data.csv\"\n",
    "coypu_path = \"../data_preparation/data/COYPU_prep_data.csv\"\n",
    "scm =  pd.read_csv(scm_path)\n",
    "coypu = pd.read_csv(coypu_path)"
   ]
  },
  {
   "cell_type": "code",
   "execution_count": 3,
   "metadata": {},
   "outputs": [],
   "source": [
    "scm['Company_Category'] = scm['Company_Category'].astype(\"category\")\n",
    "coypu['Company_Category'] = coypu['Company_Category'].astype(\"category\")"
   ]
  },
  {
   "cell_type": "code",
   "execution_count": 4,
   "metadata": {},
   "outputs": [],
   "source": [
    "coypu.rename(columns={'Parsed_City':'Location'}, inplace = True)"
   ]
  },
  {
   "cell_type": "code",
   "execution_count": 5,
   "metadata": {},
   "outputs": [],
   "source": [
    "scm['lat'] = scm['lat'].fillna('')\n",
    "scm['long'] = scm['long'].fillna('')"
   ]
  },
  {
   "attachments": {},
   "cell_type": "markdown",
   "metadata": {},
   "source": [
    "Generate country-based Datasets\n"
   ]
  },
  {
   "cell_type": "code",
   "execution_count": 6,
   "metadata": {},
   "outputs": [],
   "source": [
    "scm_germany = scm[scm.Country == 'DE']\n",
    "scm_china = scm[scm.Country == 'CN']\n",
    "scm_usa = scm[scm.Country == 'US']\n",
    "\n",
    "coypu_germany = coypu[coypu.Country == 'DE']\n",
    "coypu_china = coypu[coypu.Country == 'CN']\n",
    "coypu_usa = coypu[coypu.Country == 'US']"
   ]
  },
  {
   "attachments": {},
   "cell_type": "markdown",
   "metadata": {},
   "source": [
    "Prepare data for LatLong dedupe specific format"
   ]
  },
  {
   "cell_type": "code",
   "execution_count": 8,
   "metadata": {},
   "outputs": [],
   "source": [
    "scm_germany['lat_long'] = (scm_germany['lat'].map(lambda lat : str(round(lat,1)) if type(lat) != str else '') + ' ' + \\\n",
    "                        scm_germany['long'].map(lambda long : str(round(long,1)) if type(long) != str else ''))\\\n",
    "                        .map(lambda entry : entry.strip())\n",
    "                        \n",
    "coypu_germany['lat_long'] = (coypu_germany['lat'].map(lambda lat : str(round(lat,1)) if type(lat) != str else '') + ' ' + \\\n",
    "                        coypu_germany['long'].map(lambda long : str(round(long,1)) if type(long) != str else ''))\\\n",
    "                        .map(lambda entry : entry.strip())\n",
    "\n",
    "scm_china['lat_long'] = (scm_china['lat'].map(lambda lat : str(round(lat,1)) if type(lat) != str else '') + ' ' + \\\n",
    "                        scm_china['long'].map(lambda long : str(round(long,1)) if type(long) != str else ''))\\\n",
    "                        .map(lambda entry : entry.strip())\n",
    "                        \n",
    "coypu_china['lat_long'] = (coypu_china['lat'].map(lambda lat : str(round(lat,1)) if type(lat) != str else '') + ' ' + \\\n",
    "                          coypu_china['long'].map(lambda long : str(round(long,1)) if type(long) != str else ''))\\\n",
    "                          .map(lambda entry : entry.strip())\n",
    "\n",
    "scm_usa['lat_long'] = (scm_usa['lat'].map(lambda lat : str(round(lat,1)) if type(lat) != str else '') + ' ' + \\\n",
    "                       scm_usa['long'].map(lambda long : str(round(long,1)) if type(long) != str else ''))\\\n",
    "                       .map(lambda entry : entry.strip())\n",
    "                       \n",
    "coypu_usa['lat_long'] = (coypu_usa['lat'].map(lambda lat : str(round(lat,1)) if type(lat) != str else '') + ' ' + \\\n",
    "                        coypu_usa['long'].map(lambda long : str(round(long,1)) if type(long) != str else '')).\\\n",
    "                        map(lambda entry : entry.strip())"
   ]
  },
  {
   "attachments": {},
   "cell_type": "markdown",
   "metadata": {},
   "source": [
    "Export data"
   ]
  },
  {
   "cell_type": "code",
   "execution_count": 10,
   "metadata": {},
   "outputs": [],
   "source": [
    "scm_germany.to_csv('./data/csv_files/scm_germany.csv', index = False)\n",
    "scm_china.to_csv('./data/csv_files/scm_china.csv', index = False)\n",
    "scm_usa.to_csv('./data/csv_files/scm_usa.csv', index = False)\n",
    "\n",
    "coypu_germany.to_csv('./data/csv_files/coypu_germany.csv', index = False)\n",
    "coypu_china.to_csv('./data/csv_files/coypu_china.csv', index = False)\n",
    "coypu_usa.to_csv('./data/csv_files/coypu_usa.csv', index = False)"
   ]
  }
 ],
 "metadata": {
  "kernelspec": {
   "display_name": "Python 3",
   "language": "python",
   "name": "python3"
  },
  "language_info": {
   "codemirror_mode": {
    "name": "ipython",
    "version": 3
   },
   "file_extension": ".py",
   "mimetype": "text/x-python",
   "name": "python",
   "nbconvert_exporter": "python",
   "pygments_lexer": "ipython3",
   "version": "3.7.7"
  },
  "orig_nbformat": 4
 },
 "nbformat": 4,
 "nbformat_minor": 2
}
