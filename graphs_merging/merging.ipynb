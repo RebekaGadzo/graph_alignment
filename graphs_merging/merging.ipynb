{
 "cells": [
  {
   "cell_type": "code",
   "execution_count": null,
   "metadata": {},
   "outputs": [],
   "source": [
    "! pip install rdflib\n",
    "! pip install rdfextras\n",
    "import pandas as pd\n",
    "import rdflib\n",
    "import rdfextras\n",
    "import rdflib.plugins.sparql as sparql\n",
    "from rdflib import Graph\n",
    "from rdflib.namespace import RDF\n",
    "rdfextras.registerplugins()"
   ]
  },
  {
   "cell_type": "code",
   "execution_count": null,
   "metadata": {},
   "outputs": [],
   "source": [
    "g1=rdflib.Graph()\n",
    "g1.parse(\"./graph_data/locations_events.ttl\", format='turtle')"
   ]
  },
  {
   "cell_type": "code",
   "execution_count": null,
   "metadata": {},
   "outputs": [],
   "source": [
    "g2=rdflib.Graph()\n",
    "g2.parse(\"./graph_data/companies_features.ttl\", format='turtle')"
   ]
  },
  {
   "cell_type": "code",
   "execution_count": null,
   "metadata": {},
   "outputs": [],
   "source": [
    "g3=rdflib.Graph()\n",
    "g3.parse(\"./graph_data/export.xml\", format='xml')"
   ]
  },
  {
   "cell_type": "code",
   "execution_count": 5,
   "metadata": {},
   "outputs": [],
   "source": [
    "scm = pd.read_csv('../data_preparation/data/SCM_prep_data_ID.csv')"
   ]
  },
  {
   "attachments": {},
   "cell_type": "markdown",
   "metadata": {},
   "source": [
    "Add Latitude and Longitude"
   ]
  },
  {
   "cell_type": "code",
   "execution_count": 6,
   "metadata": {},
   "outputs": [],
   "source": [
    "def add_lat_long(graph, id, lat, long):\n",
    "    print(id, lat, long)\n",
    "    if pd.isna(lat) or pd.isna(long):\n",
    "        return\n",
    "    graph.update(\"\"\"\n",
    "        PREFIX rdf: <http://www.w3.org/1999/02/22-rdf-syntax-ns#>\n",
    "        PREFIX schema: <neo4j://graph.schema#>\n",
    "        PREFIX individual: <neo4j://graph.individuals#>\n",
    "\n",
    "        INSERT {{\n",
    "            individual:{id} schema:hasLatitude \"{lat}\"^^xsd:decimal .\n",
    "            individual:{id} schema:hasLongitude \"{long}\"^^xsd:decimal\n",
    "        }}\n",
    "        WHERE {{\n",
    "            individual:{id} ?p ?o\n",
    "        }}\n",
    "    \"\"\".format(id = id, lat = lat, long = long))"
   ]
  },
  {
   "cell_type": "code",
   "execution_count": null,
   "metadata": {},
   "outputs": [],
   "source": [
    "for i in range(len(scm)):\n",
    "    add_lat_long(g3, scm.ID[i], scm.lat[i], scm.long[i])"
   ]
  },
  {
   "attachments": {},
   "cell_type": "markdown",
   "metadata": {},
   "source": [
    "Export Graph with Latitude and Longitude"
   ]
  },
  {
   "cell_type": "code",
   "execution_count": 8,
   "metadata": {},
   "outputs": [],
   "source": [
    "scm_latlong = g3.serialize(format=\"turtle\")\n",
    "\n",
    "with open(\"output_scm.ttl\", \"w\", encoding= \"utf-8\") as file:\n",
    "    file.write(scm_latlong)"
   ]
  },
  {
   "cell_type": "code",
   "execution_count": 9,
   "metadata": {},
   "outputs": [],
   "source": [
    "g_merged = g1 + g3"
   ]
  },
  {
   "attachments": {},
   "cell_type": "markdown",
   "metadata": {},
   "source": [
    "Create Supplier Event Nodes"
   ]
  },
  {
   "cell_type": "code",
   "execution_count": 10,
   "metadata": {},
   "outputs": [],
   "source": [
    "company_events = g_merged.query(\"\"\"\n",
    "      PREFIX owl: <http://www.w3.org/2002/07/owl#>\n",
    "      PREFIX coy: <https://schema.coypu.org/global#>\n",
    "      PREFIX rdf: <http://www.w3.org/1999/02/22-rdf-syntax-ns#>\n",
    "      PREFIX rdfs: <http://www.w3.org/2000/01/rdf-schema#>\n",
    "      PREFIX geof: <http://www.opengis.net/def/function/geosparql/>\n",
    "      PREFIX geo: <http://www.w3.org/2003/01/geo/wgs84_pos#>\n",
    "      PREFIX schema: <neo4j://graph.schema#>\n",
    "      PREFIX individual: <neo4j://graph.individuals#>\n",
    "\n",
    "      SELECT ?company ?event\n",
    "      WHERE {\n",
    "      # Events\n",
    "      ?event a coy:Event ;\n",
    "            coy:hasLatitude ?eventLat ;\n",
    "            coy:hasLongitude ?eventLong .\n",
    "\n",
    "      # Companies\n",
    "      ?company a schema:Supplier ;\n",
    "            schema:hasLatitude ?companyLat ;\n",
    "            schema:hasLongitude ?companyLong .\n",
    "\n",
    "      FILTER(\n",
    "            ?eventLat  <= ?companyLat + 2 && ?eventLat >= ?companyLat - 2  &&\n",
    "            ?eventLong  <= ?companyLong + 2 && ?eventLong >= ?companyLong - 2\n",
    "            )\n",
    "\n",
    "      }\n",
    "\"\"\").bindings"
   ]
  },
  {
   "cell_type": "code",
   "execution_count": 11,
   "metadata": {},
   "outputs": [],
   "source": [
    "def to_company_uri(id, company_uri):\n",
    "    company_id = rdflib.Literal(int(str(company_uri.split('#')[1])))\n",
    "\n",
    "    subject = rdflib.URIRef('neo4j://graph.individuals/events#'+str(id))\n",
    "    comp_predicate = rdflib.URIRef('neo4j://graph.schema#supplier_id')\n",
    "\n",
    "    return (subject, comp_predicate, company_id)\n"
   ]
  },
  {
   "cell_type": "code",
   "execution_count": 12,
   "metadata": {},
   "outputs": [],
   "source": [
    "def to_event_uri(id, event_uri):\n",
    "    subject = rdflib.URIRef('neo4j://graph.individuals/events#'+str(id))\n",
    "    event_predicate = rdflib.URIRef('neo4j://graph.schema#HAS_EVENT')\n",
    "    return (subject, event_predicate, event_uri)"
   ]
  },
  {
   "cell_type": "code",
   "execution_count": 13,
   "metadata": {},
   "outputs": [],
   "source": [
    "def get_type_property(id):\n",
    "    subject = rdflib.URIRef('neo4j://graph.individuals/events#'+str(id))\n",
    "    pred = RDF.type\n",
    "    type_uri = rdflib.URIRef('neo4j://graph.schema#SupplierEvent')\n",
    "    return (subject, pred, type_uri)"
   ]
  },
  {
   "cell_type": "code",
   "execution_count": 14,
   "metadata": {},
   "outputs": [],
   "source": [
    "id = 1\n",
    "g4 = rdflib.Graph()\n",
    "for binding in company_events:\n",
    "    g4.add(get_type_property(id))\n",
    "    g4.add(to_company_uri(id, binding['company']))\n",
    "    g4.add(to_event_uri(id, binding['event']))\n",
    "\n",
    "    id += 1\n"
   ]
  },
  {
   "attachments": {},
   "cell_type": "markdown",
   "metadata": {},
   "source": [
    "Export the graph as Turtle"
   ]
  },
  {
   "cell_type": "code",
   "execution_count": 15,
   "metadata": {},
   "outputs": [],
   "source": [
    "supplier_events = g4.serialize(format=\"turtle\")\n",
    "\n",
    "with open(\"supplier_events.ttl\", \"w\", encoding= \"utf-8\") as file:\n",
    "    file.write(supplier_events)"
   ]
  },
  {
   "attachments": {},
   "cell_type": "markdown",
   "metadata": {},
   "source": [
    "Join Dedupe Results"
   ]
  },
  {
   "cell_type": "code",
   "execution_count": null,
   "metadata": {},
   "outputs": [],
   "source": [
    "def parse_matches(df): \n",
    "   return df.loc[(df['company'].isna() == False) & (df['index_scm'].isna() == False)]\n",
    "\n",
    "dedupe = pd.concat([\n",
    "    parse_matches(pd.read_csv('../dedupe/output_cn.csv')),\n",
    "    parse_matches(pd.read_csv('../dedupe/output_de.csv')),\n",
    "    parse_matches(pd.read_csv('../dedupe/output_us.csv'))\n",
    "])"
   ]
  },
  {
   "cell_type": "code",
   "execution_count": 326,
   "metadata": {},
   "outputs": [],
   "source": [
    "dedupe.reset_index(inplace = True)"
   ]
  },
  {
   "cell_type": "code",
   "execution_count": 256,
   "metadata": {},
   "outputs": [],
   "source": [
    "idx = {}\n",
    "for i in range(len(scm)):\n",
    "    idx[scm[\"index\"][i]] = scm[\"ID\"][i]\n",
    "\n",
    "dedupe[\"scm_ID\"] = dedupe[\"index_scm\"].map(lambda index : idx[index])"
   ]
  },
  {
   "cell_type": "code",
   "execution_count": 330,
   "metadata": {},
   "outputs": [],
   "source": [
    "def get_lei_city(uri):\n",
    "    bind = g2.query(\"\"\"\n",
    "    SELECT ?lei ?city\n",
    "    WHERE {{\n",
    "        <{uri}> <https://schema.coypu.org/global#hasLeiCode> ?lei . \n",
    "        <{uri}> <https://schema.coypu.org/global#hasCity> ?city .   \n",
    "        }}\"\"\".format(uri = uri)).bindings\n",
    "    \n",
    "    return (bind[0]['city'], bind[0]['lei'])"
   ]
  },
  {
   "cell_type": "code",
   "execution_count": null,
   "metadata": {},
   "outputs": [],
   "source": [
    "g5=rdflib.Graph()\n",
    "g5.parse(\"./output_scm.ttl\", format='turtle')"
   ]
  },
  {
   "cell_type": "code",
   "execution_count": 347,
   "metadata": {},
   "outputs": [],
   "source": [
    "def update_company_fields(scm_id_, coy_id_, lei_, city_):\n",
    "    print(scm_id_, coy_id_, lei_, city_)\n",
    "    g5.update(\"\"\"\n",
    "            PREFIX schema: <neo4j://graph.schema#>\n",
    "            PREFIX individual: <neo4j://graph.individuals#>\n",
    "            \n",
    "            INSERT {{\n",
    "                    individual:{scm_id} schema:scm_id \"{scm_id}\" .\n",
    "                    individual:{scm_id} schema:lei \"{lei}\" .\n",
    "                    individual:{scm_id} schema:city \"{city}\" .\n",
    "                    individual:{scm_id} schema:HAS_COYPU \"{coy_id}\"\n",
    "                }}\n",
    "            WHERE {{\n",
    "                    individual:{scm_id} ?p ?o \n",
    "                }}\"\"\".format(scm_id = scm_id_, coy_id = coy_id_, lei = lei_, city = city_)\n",
    "            )"
   ]
  },
  {
   "attachments": {},
   "cell_type": "markdown",
   "metadata": {},
   "source": [
    "Extend SCM Graph by LEI CODE, CITY Info and COYPU ID from COYPU KG\n"
   ]
  },
  {
   "cell_type": "code",
   "execution_count": null,
   "metadata": {},
   "outputs": [],
   "source": [
    "for i in range(len(dedupe)):\n",
    "    print(\"index\", i)\n",
    "    city, lei = get_lei_city(dedupe['company'][i])\n",
    "    update_company_fields(dedupe.scm_ID[i], str(dedupe.company[i]), lei, city)"
   ]
  },
  {
   "cell_type": "code",
   "execution_count": 351,
   "metadata": {},
   "outputs": [],
   "source": [
    "scm_done = g5.serialize(format=\"turtle\")\n",
    "\n",
    "with open(\"scm_done.ttl\", \"w\", encoding= \"utf-8\") as file:\n",
    "    file.write(scm_done)"
   ]
  }
 ],
 "metadata": {
  "kernelspec": {
   "display_name": "Python 3",
   "language": "python",
   "name": "python3"
  },
  "language_info": {
   "codemirror_mode": {
    "name": "ipython",
    "version": 3
   },
   "file_extension": ".py",
   "mimetype": "text/x-python",
   "name": "python",
   "nbconvert_exporter": "python",
   "pygments_lexer": "ipython3",
   "version": "3.7.7"
  },
  "orig_nbformat": 4
 },
 "nbformat": 4,
 "nbformat_minor": 2
}
