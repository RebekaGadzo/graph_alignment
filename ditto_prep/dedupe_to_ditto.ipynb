{
 "cells": [
  {
   "cell_type": "code",
   "execution_count": null,
   "metadata": {},
   "outputs": [],
   "source": [
    "import pandas as pd\n",
    "%load_ext autoreload\n",
    "%autoreload 2"
   ]
  },
  {
   "cell_type": "code",
   "execution_count": null,
   "metadata": {},
   "outputs": [],
   "source": [
    "\n",
    "def parse_matches(df):\n",
    "    return df.loc[(df['company'].isna() == False) & (df['index_scm'].isna() == False)]\n",
    "\n",
    "\n",
    "dedupe = pd.concat([\n",
    "    parse_matches(pd.read_csv('../dedupe/output_cn.csv')),\n",
    "    parse_matches(pd.read_csv('../dedupe/output_de.csv')),\n",
    "    parse_matches(pd.read_csv('../dedupe/output_us.csv')),\n",
    "])\n"
   ]
  },
  {
   "cell_type": "code",
   "execution_count": null,
   "metadata": {},
   "outputs": [],
   "source": [
    "full_matches = []\n",
    "no_loc_matches = []\n",
    "unparsed_matches = []\n",
    "\n",
    "for index, row in dedupe[dedupe.Country == 'CN'].iterrows():\n",
    "    match = 'COL NAME VAL ' + str(row['Parsed_Company']) + \\\n",
    "            ' COL CO_CATEGORY VAL ' + str(row['Company_Category']) + \\\n",
    "            ' COL LONG VAL ' + str(row['long']) + \\\n",
    "            ' COL LAT VAL ' + str(row['lat']) + '\\t' + \\\n",
    "            'COL NAME VAL '  + str(row['Parsed_Company.1']) + \\\n",
    "            ' COL CO_CATEGORY VAL '  + str(row['Company_Category.1']) + \\\n",
    "            ' COL LONG VAL '  + str(row['long.1']) + \\\n",
    "            ' COL LAT VAL '  + str(row['lat.1']) + '\\t' + str(1) + '\\n'\n",
    "    full_matches.append(match)\n",
    "\n",
    "    match = 'COL NAME VAL ' + str(row['Parsed_Company']) + \\\n",
    "            ' COL CO_CATEGORY VAL ' + str(row['Company_Category']) + '\\t' +\\\n",
    "            'COL NAME VAL '  + str(row['Parsed_Company.1']) + \\\n",
    "            ' COL CO_CATEGORY VAL '  + str(row['Company_Category.1']) + '\\t' + str(1) + '\\n'\n",
    "    \n",
    "    no_loc_matches.append(match)\n",
    "\n",
    "    match = 'COL NAME VAL ' + str(row['Company']) + '\\t' +\\\n",
    "            'COL NAME VAL '  + str(row['Company.1']) + '\\t' + str(1) + '\\n'\n",
    "    \n",
    "    unparsed_matches.append(match)"
   ]
  },
  {
   "cell_type": "code",
   "execution_count": null,
   "metadata": {},
   "outputs": [],
   "source": [
    "open('./data/cn_train_full.txt', mode = 'a', encoding = 'utf-8').writelines(full_matches)\n",
    "open('./data/cn_train_no_loc.txt', mode = 'a', encoding = 'utf-8').writelines(no_loc_matches)\n",
    "open('./data/cn_train_unparsed.txt', mode = 'a', encoding = 'utf-8').writelines(unparsed_matches)"
   ]
  },
  {
   "cell_type": "code",
   "execution_count": null,
   "metadata": {},
   "outputs": [],
   "source": [
    "full_matches = []\n",
    "no_loc_matches = []\n",
    "unparsed_matches = []\n",
    "\n",
    "for index, row in dedupe[dedupe.Country == 'DE'].iterrows():\n",
    "    match = 'COL NAME VAL ' + str(row['Parsed_Company']) + \\\n",
    "            ' COL CO_CATEGORY VAL ' + str(row['Company_Category']) + \\\n",
    "            ' COL LONG VAL ' + str(row['long']) + \\\n",
    "            ' COL LAT VAL ' + str(row['lat']) + '\\t' + \\\n",
    "            'COL NAME VAL '  + str(row['Parsed_Company.1']) + \\\n",
    "            ' COL CO_CATEGORY VAL '  + str(row['Company_Category.1']) + \\\n",
    "            ' COL LONG VAL '  + str(row['long.1']) + \\\n",
    "            ' COL LAT VAL '  + str(row['lat.1']) + '\\t' + str(1) + '\\n'\n",
    "    full_matches.append(match)\n",
    "\n",
    "    match = 'COL NAME VAL ' + str(row['Parsed_Company']) + \\\n",
    "            ' COL CO_CATEGORY VAL ' + str(row['Company_Category']) + '\\t' +\\\n",
    "            'COL NAME VAL '  + str(row['Parsed_Company.1']) + \\\n",
    "            ' COL CO_CATEGORY VAL '  + str(row['Company_Category.1']) + '\\t' + str(1) + '\\n'\n",
    "    \n",
    "    no_loc_matches.append(match)\n",
    "\n",
    "    match = 'COL NAME VAL ' + str(row['Company']) + '\\t' +\\\n",
    "            'COL NAME VAL '  + str(row['Company.1']) + '\\t' + str(1) + '\\n'\n",
    "    \n",
    "    unparsed_matches.append(match)"
   ]
  },
  {
   "cell_type": "code",
   "execution_count": null,
   "metadata": {},
   "outputs": [],
   "source": [
    "open('./data/de_train_full.txt', mode = 'a', encoding = 'utf-8').writelines(full_matches)\n",
    "open('./data/de_train_no_loc.txt', mode = 'a', encoding = 'utf-8').writelines(no_loc_matches)\n",
    "open('./data/de_train_unparsed.txt', mode = 'a', encoding = 'utf-8').writelines(unparsed_matches)"
   ]
  },
  {
   "cell_type": "code",
   "execution_count": null,
   "metadata": {},
   "outputs": [],
   "source": [
    "full_matches = []\n",
    "no_loc_matches = []\n",
    "unparsed_matches = []\n",
    "\n",
    "for index, row in dedupe[dedupe.Country == 'US'].iterrows():\n",
    "    match = 'COL NAME VAL ' + str(row['Parsed_Company']) + \\\n",
    "            ' COL CO_CATEGORY VAL ' + str(row['Company_Category']) + \\\n",
    "            ' COL LONG VAL ' + str(row['long']) + \\\n",
    "            ' COL LAT VAL ' + str(row['lat']) + '\\t' + \\\n",
    "            'COL NAME VAL '  + str(row['Parsed_Company.1']) + \\\n",
    "            ' COL CO_CATEGORY VAL '  + str(row['Company_Category.1']) + \\\n",
    "            ' COL LONG VAL '  + str(row['long.1']) + \\\n",
    "            ' COL LAT VAL '  + str(row['lat.1']) + '\\t' + str(1) + '\\n'\n",
    "    full_matches.append(match)\n",
    "\n",
    "    match = 'COL NAME VAL ' + str(row['Parsed_Company']) + \\\n",
    "            ' COL CO_CATEGORY VAL ' + str(row['Company_Category']) + '\\t' +\\\n",
    "            'COL NAME VAL '  + str(row['Parsed_Company.1']) + \\\n",
    "            ' COL CO_CATEGORY VAL '  + str(row['Company_Category.1']) + '\\t' + str(1) + '\\n'\n",
    "    \n",
    "    no_loc_matches.append(match)\n",
    "\n",
    "    match = 'COL NAME VAL ' + str(row['Company']) + '\\t' +\\\n",
    "            'COL NAME VAL '  + str(row['Company.1']) + '\\t' + str(1) + '\\n'\n",
    "    \n",
    "    unparsed_matches.append(match)"
   ]
  },
  {
   "cell_type": "code",
   "execution_count": null,
   "metadata": {},
   "outputs": [],
   "source": [
    "open('./data/us_train_full.txt', mode = 'a', encoding = 'utf-8').writelines(full_matches)\n",
    "open('./data/us_train_no_loc.txt', mode = 'a', encoding = 'utf-8').writelines(no_loc_matches)\n",
    "open('./data/us_train_unparsed.txt', mode = 'a', encoding = 'utf-8').writelines(unparsed_matches)"
   ]
  }
 ],
 "metadata": {
  "language_info": {
   "name": "python"
  },
  "orig_nbformat": 4
 },
 "nbformat": 4,
 "nbformat_minor": 2
}
