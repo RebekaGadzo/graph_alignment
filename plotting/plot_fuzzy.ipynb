{
 "cells": [
  {
   "cell_type": "code",
   "execution_count": 3,
   "metadata": {},
   "outputs": [],
   "source": [
    "#! pip install matplotlib\n",
    "import matplotlib.pyplot as plt\n",
    "import pandas as pd\n",
    "import numpy as np"
   ]
  },
  {
   "cell_type": "code",
   "execution_count": 2,
   "metadata": {},
   "outputs": [],
   "source": [
    "fuzzy_res = pd.read_csv(\"../fuzzy_matcher/fuzzy_results.csv\")"
   ]
  },
  {
   "cell_type": "code",
   "execution_count": 7,
   "metadata": {},
   "outputs": [],
   "source": [
    "fuzzy_res['Score_Categories'] = pd.cut(fuzzy_res['best_match_score'], bins = np.arange(-2.7,2.8,(3/15)).tolist())"
   ]
  },
  {
   "cell_type": "code",
   "execution_count": 8,
   "metadata": {},
   "outputs": [],
   "source": [
    "df_grouped = fuzzy_res.groupby(\"Score_Categories\", group_keys=True).count()"
   ]
  },
  {
   "cell_type": "code",
   "execution_count": null,
   "metadata": {},
   "outputs": [],
   "source": [
    "df_grouped"
   ]
  },
  {
   "cell_type": "code",
   "execution_count": 13,
   "metadata": {},
   "outputs": [],
   "source": [
    "f = (fuzzy_res['Score_Categories'].cat.categories.map(lambda interval: str(interval))).array"
   ]
  },
  {
   "cell_type": "code",
   "execution_count": 14,
   "metadata": {},
   "outputs": [],
   "source": [
    "f = fuzzy_res['Score_Categories'].unique().map(lambda interval: str(interval))"
   ]
  },
  {
   "cell_type": "code",
   "execution_count": null,
   "metadata": {},
   "outputs": [],
   "source": [
    "import numpy as np\n",
    "import matplotlib.pyplot as plt\n",
    "  \n",
    "fig = plt.figure(figsize = (12, 4))\n",
    " \n",
    "# creating the bar plot\n",
    "plt.bar(f.categories, df_grouped['best_match_score'], color ='maroon')\n",
    "plt.xticks(rotation = 45)\n",
    "plt.xlabel(\"Match Score Invervals\")\n",
    "plt.ylabel(\"No. of matches\")\n",
    "plt.title(\"\")\n",
    "plt.show()"
   ]
  },
  {
   "cell_type": "code",
   "execution_count": null,
   "metadata": {},
   "outputs": [],
   "source": [
    "# frequencies\n",
    "ages = df_grouped['best_match_score'].tolist()\n",
    "  \n",
    "# setting the ranges and no. of intervals\n",
    "range = (-2.7, 2.6)\n",
    "bins = 15  \n",
    "  \n",
    "# plotting a histogram\n",
    "plt.hist(ages, bins, range, color = 'green',\n",
    "        histtype = 'bar', rwidth = 0.8)\n",
    "  \n",
    "# x-axis label\n",
    "plt.xlabel('age')\n",
    "# frequency label\n",
    "plt.ylabel('No. of people')\n",
    "# plot title\n",
    "plt.title('My histogram')\n",
    "  \n",
    "# function to show the plot\n",
    "plt.show()"
   ]
  }
 ],
 "metadata": {
  "kernelspec": {
   "display_name": "Python 3",
   "language": "python",
   "name": "python3"
  },
  "language_info": {
   "codemirror_mode": {
    "name": "ipython",
    "version": 3
   },
   "file_extension": ".py",
   "mimetype": "text/x-python",
   "name": "python",
   "nbconvert_exporter": "python",
   "pygments_lexer": "ipython3",
   "version": "3.7.7"
  },
  "orig_nbformat": 4
 },
 "nbformat": 4,
 "nbformat_minor": 2
}
