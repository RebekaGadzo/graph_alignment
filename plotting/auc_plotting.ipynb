{
 "cells": [
  {
   "cell_type": "code",
   "execution_count": 2,
   "metadata": {},
   "outputs": [],
   "source": [
    "import pandas as pd\n",
    "import csv"
   ]
  },
  {
   "cell_type": "code",
   "execution_count": 73,
   "metadata": {},
   "outputs": [],
   "source": [
    "ger = pd.read_csv(\"Companies_Matcher_Eval - Germany (2).csv\")\n",
    "china = pd.read_csv(\"Companies_Matcher_Eval - China (3).csv\")\n",
    "usa = pd.read_csv(\"Companies_Matcher_Eval - USA (2).csv\")"
   ]
  },
  {
   "cell_type": "code",
   "execution_count": 74,
   "metadata": {},
   "outputs": [],
   "source": [
    "ger_sub = ger[['dd', 'fz', 'full', 'no loc', 'unp', 'our', 'gpt', 'L', 'ditto_confidence', 'ditto_no_loc_label_confidence', 'ditto_unparsed_confidence', 'ditto_our_confidence', 'GPT_confidence']]\n",
    "china_sub = china[['dd', 'fz', 'full', 'no loc', 'unp', 'our', 'gpt', 'L', 'ditto_confidence', 'ditto_no_loc_label_confidence', 'ditto_unparsed_confidence', 'ditto_our_confidence', 'GPT_confidence', 'GPT_conf_absolut']]\n",
    "usa_sub = usa[['dd', 'fz', 'full', 'no loc', 'unp', 'our', 'L', 'gpt', 'ditto_confidence', 'ditto_no_loc_label_confidence', 'ditto_unparsed_confidence', 'ditto_our_confidence', 'GPT_confidence']]"
   ]
  },
  {
   "attachments": {},
   "cell_type": "markdown",
   "metadata": {},
   "source": [
    "Convert Types for Data Grouping"
   ]
  },
  {
   "cell_type": "code",
   "execution_count": null,
   "metadata": {},
   "outputs": [],
   "source": [
    "ger_sub[\"dd\"] = ger_sub[\"dd\"].astype(int)\n",
    "ger_sub[\"fz\"] = ger_sub[\"fz\"].astype(int)\n",
    "ger_sub[\"full\"] = ger_sub[\"full\"].astype(int)\n",
    "ger_sub[\"no loc\"] = ger_sub[\"no loc\"].astype(int)\n",
    "ger_sub[\"unp\"] = ger_sub[\"unp\"].astype(int)\n",
    "ger_sub[\"our\"] = ger_sub[\"our\"].astype(int)\n",
    "ger_sub[\"gpt\"] = ger_sub[\"gpt\"].astype(int)\n",
    "ger_sub[\"L\"] = ger_sub[\"L\"].astype(int)\n",
    "\n",
    "usa_sub[\"dd\"] = usa_sub[\"dd\"].astype(int)\n",
    "usa_sub[\"fz\"] = usa_sub[\"fz\"].astype(int)\n",
    "usa_sub[\"full\"] = usa_sub[\"full\"].astype(int)\n",
    "usa_sub[\"no loc\"] = usa_sub[\"no loc\"].astype(int)\n",
    "usa_sub[\"unp\"] = usa_sub[\"unp\"].astype(int)\n",
    "usa_sub[\"our\"] = usa_sub[\"our\"].astype(int)\n",
    "usa_sub[\"gpt\"] = usa_sub[\"gpt\"].astype(int)\n",
    "usa_sub[\"L\"] = usa_sub[\"L\"].astype(int)\n",
    "\n",
    "china_sub[\"dd\"] = china_sub[\"dd\"].astype(int)\n",
    "china_sub[\"fz\"] = china_sub[\"fz\"].astype(int)\n",
    "china_sub[\"full\"] = china_sub[\"full\"].astype(int)\n",
    "china_sub[\"no loc\"] = china_sub[\"no loc\"].astype(int)\n",
    "china_sub[\"unp\"] = china_sub[\"unp\"].astype(int)\n",
    "china_sub[\"our\"] = china_sub[\"our\"].astype(int)\n",
    "china_sub[\"gpt\"] = china_sub[\"gpt\"].astype(int)\n",
    "china_sub[\"L\"] = china_sub[\"L\"].astype(int)"
   ]
  },
  {
   "attachments": {},
   "cell_type": "markdown",
   "metadata": {},
   "source": [
    "Parse Confidence Match Count"
   ]
  },
  {
   "cell_type": "code",
   "execution_count": null,
   "metadata": {},
   "outputs": [],
   "source": [
    "ger_sub[\"c_full\"] = list(map(lambda v1, v2: 1 if v1 == v2 else 0, ger_sub.L, ger_sub['full']))\n",
    "ger_sub[\"c_no_loc\"] = list(map(lambda v1, v2: 1 if v1 == v2 else 0, ger_sub.L, ger_sub['no loc']))\n",
    "ger_sub[\"c_unparsed\"] = list(map(lambda v1, v2: 1 if v1 == v2 else 0, ger_sub.L, ger_sub['unp']))\n",
    "ger_sub[\"c_our\"] = list(map(lambda v1, v2: 1 if v1 == v2 else 0, ger_sub.L, ger_sub['our']))"
   ]
  },
  {
   "cell_type": "code",
   "execution_count": null,
   "metadata": {},
   "outputs": [],
   "source": [
    "china_sub[\"c_full\"] = list(map(lambda v1, v2: 1 if v1 == v2 else 0, china_sub.L, china_sub['full']))\n",
    "china_sub[\"c_no_loc\"] = list(map(lambda v1, v2: 1 if v1 == v2 else 0, china_sub.L, china_sub['no loc']))\n",
    "china_sub[\"c_unparsed\"] = list(map(lambda v1, v2: 1 if v1 == v2 else 0, china_sub.L, china_sub['unp']))\n",
    "china_sub[\"c_our\"] = list(map(lambda v1, v2: 1 if v1 == v2 else 0, china_sub.L, china_sub['our']))"
   ]
  },
  {
   "cell_type": "code",
   "execution_count": null,
   "metadata": {},
   "outputs": [],
   "source": [
    "usa_sub[\"c_full\"] = list(map(lambda v1, v2: 1 if v1 == v2 else 0, usa_sub.L, usa_sub['full']))\n",
    "usa_sub[\"c_no_loc\"] = list(map(lambda v1, v2: 1 if v1 == v2 else 0, usa_sub.L, usa_sub['no loc']))\n",
    "usa_sub[\"c_unparsed\"] = list(map(lambda v1, v2: 1 if v1 == v2 else 0, usa_sub.L, usa_sub['unp']))\n",
    "usa_sub[\"c_our\"] = list(map(lambda v1, v2: 1 if v1 == v2 else 0, usa_sub.L, usa_sub['our']))"
   ]
  },
  {
   "cell_type": "code",
   "execution_count": 80,
   "metadata": {},
   "outputs": [],
   "source": [
    "frames = [ger_sub, usa_sub, china_sub]\n",
    "\n",
    "all_countries = pd.concat(frames)"
   ]
  },
  {
   "cell_type": "code",
   "execution_count": null,
   "metadata": {},
   "outputs": [],
   "source": [
    "all_countries.dtypes"
   ]
  },
  {
   "cell_type": "code",
   "execution_count": 29,
   "metadata": {},
   "outputs": [],
   "source": [
    "from sklearn.metrics import roc_curve, auc\n",
    "import matplotlib.pyplot as plt"
   ]
  },
  {
   "attachments": {},
   "cell_type": "markdown",
   "metadata": {},
   "source": [
    "Render Graphs for Countries"
   ]
  },
  {
   "cell_type": "code",
   "execution_count": null,
   "metadata": {},
   "outputs": [],
   "source": [
    "# Germany\n",
    "# y_true: true labels of the test set\n",
    "# y_pred: predicted probabilities for the positive class\n",
    "\n",
    "fpr_ditto_confidence, tpr_ditto_confidence, thresholds_ditto_confidence = roc_curve(ger_sub.c_full, ger_sub.ditto_confidence)\n",
    "roc_auc_ditto_confidence = auc(fpr_ditto_confidence, tpr_ditto_confidence)\n",
    "\n",
    "fpr_ditto_no_loc_label_confidence, tpr_ditto_no_loc_label_confidence, thresholds_ditto_no_loc_label_confidence = roc_curve(ger_sub.c_no_loc, ger_sub.ditto_no_loc_label_confidence)\n",
    "roc_auc_ditto_no_loc_label_confidence = auc(fpr_ditto_no_loc_label_confidence, tpr_ditto_no_loc_label_confidence)\n",
    "\n",
    "fpr_ditto_unparsed_confidence, tpr_ditto_unparsed_confidence, thresholds_ditto_unparsed_confidence = roc_curve(ger_sub.c_unparsed, ger_sub.ditto_unparsed_confidence)\n",
    "roc_auc_ditto_unparsed_confidence = auc(fpr_ditto_unparsed_confidence, tpr_ditto_unparsed_confidence)\n",
    "\n",
    "fpr_ditto_our_confidence, tpr_ditto_our_confidence, thresholds_ditto_our_confidence = roc_curve(ger_sub.c_our, ger_sub.ditto_our_confidence)\n",
    "roc_auc_ditto_our_confidence = auc(fpr_ditto_our_confidence, tpr_ditto_our_confidence)\n",
    "\n",
    "fpr_gpt_confidence, tpr_gpt_confidence, thresholds_gpt_confidence = roc_curve(ger_sub.gpt, ger_sub.GPT_confidence)\n",
    "roc_auc_gpt_confidence = auc(fpr_gpt_confidence, tpr_gpt_confidence)\n",
    "\n",
    "plt.plot(fpr_ditto_confidence, tpr_ditto_confidence, lw=1, label='ROC curve FULL (AUC = %0.2f)' % roc_auc_ditto_confidence)\n",
    "plt.plot(fpr_ditto_no_loc_label_confidence, tpr_ditto_no_loc_label_confidence, lw=1, label='ROC curve NO LOC (AUC = %0.2f)' % roc_auc_ditto_no_loc_label_confidence)\n",
    "plt.plot(fpr_ditto_unparsed_confidence, tpr_ditto_unparsed_confidence, lw=1, label='ROC curve Unparsed (AUC = %0.2f)' % roc_auc_ditto_unparsed_confidence)\n",
    "plt.plot(fpr_ditto_our_confidence, tpr_ditto_our_confidence, lw=1, label='ROC curve Text-Based (AUC = %0.2f)' % roc_auc_ditto_our_confidence)\n",
    "plt.plot(fpr_gpt_confidence, tpr_gpt_confidence, lw=1, label='ROC curve GPT (AUC = %0.2f)' % roc_auc_gpt_confidence)\n",
    "plt.plot([0, 1], [0, 1], '--', color='gray', label='Random guessing')\n",
    "plt.xlim([0.0, 1.0])\n",
    "plt.ylim([0.0, 1.05])\n",
    "plt.xlabel('False Positive Rate')\n",
    "plt.ylabel('True Positive Rate')\n",
    "plt.title('Receiver Operating Characteristic Germany')\n",
    "plt.legend(loc=\"lower right\")\n",
    "plt.show()"
   ]
  },
  {
   "cell_type": "code",
   "execution_count": null,
   "metadata": {},
   "outputs": [],
   "source": [
    "# China\n",
    "# y_true: true labels of the test set\n",
    "# y_pred: predicted probabilities for the positive class\n",
    "\n",
    "fpr_ditto_confidence, tpr_ditto_confidence, thresholds_ditto_confidence = roc_curve(china_sub.c_full, china_sub.ditto_confidence)\n",
    "roc_auc_ditto_confidence = auc(fpr_ditto_confidence, tpr_ditto_confidence)\n",
    "\n",
    "fpr_ditto_no_loc_label_confidence, tpr_ditto_no_loc_label_confidence, thresholds_ditto_no_loc_label_confidence = roc_curve(china_sub.c_no_loc, china_sub.ditto_no_loc_label_confidence)\n",
    "roc_auc_ditto_no_loc_label_confidence = auc(fpr_ditto_no_loc_label_confidence, tpr_ditto_no_loc_label_confidence)\n",
    "\n",
    "fpr_ditto_unparsed_confidence, tpr_ditto_unparsed_confidence, thresholds_ditto_unparsed_confidence = roc_curve(china_sub.c_unparsed, china_sub.ditto_unparsed_confidence)\n",
    "roc_auc_ditto_unparsed_confidence = auc(fpr_ditto_unparsed_confidence, tpr_ditto_unparsed_confidence)\n",
    "\n",
    "fpr_ditto_our_confidence, tpr_ditto_our_confidence, thresholds_ditto_our_confidence = roc_curve(china_sub.c_our, china_sub.ditto_our_confidence)\n",
    "roc_auc_ditto_our_confidence = auc(fpr_ditto_our_confidence, tpr_ditto_our_confidence)\n",
    "\n",
    "fpr_gpt_confidence, tpr_gpt_confidence, thresholds_gpt_confidence = roc_curve(china_sub.gpt, china_sub.GPT_conf_absolut)\n",
    "roc_auc_gpt_confidence = auc(fpr_gpt_confidence, tpr_gpt_confidence)\n",
    "\n",
    "plt.plot(fpr_ditto_confidence, tpr_ditto_confidence, lw=1, label='ROC curve FULL (AUC = %0.2f)' % roc_auc_ditto_confidence)\n",
    "plt.plot(fpr_ditto_no_loc_label_confidence, tpr_ditto_no_loc_label_confidence, lw=1, label='ROC curve NO LOC (AUC = %0.2f)' % roc_auc_ditto_no_loc_label_confidence)\n",
    "plt.plot(fpr_ditto_unparsed_confidence, tpr_ditto_unparsed_confidence, lw=1, label='ROC curve Unparsed (AUC = %0.2f)' % roc_auc_ditto_unparsed_confidence)\n",
    "plt.plot(fpr_ditto_our_confidence, tpr_ditto_our_confidence, lw=1, label='ROC curve Text-Based (AUC = %0.2f)' % roc_auc_ditto_our_confidence)\n",
    "plt.plot(fpr_gpt_confidence, tpr_gpt_confidence, lw=1, label='ROC curve GPT (AUC = %0.2f)' % roc_auc_gpt_confidence)\n",
    "plt.plot([0, 1], [0, 1], '--', color='gray', label='Random guessing')\n",
    "plt.xlim([0.0, 1.0])\n",
    "plt.ylim([0.0, 1.05])\n",
    "plt.xlabel('False Positive Rate')\n",
    "plt.ylabel('True Positive Rate')\n",
    "plt.title('Receiver Operating Characteristic China')\n",
    "plt.legend(loc=\"lower right\")\n",
    "plt.show()"
   ]
  },
  {
   "cell_type": "code",
   "execution_count": null,
   "metadata": {},
   "outputs": [],
   "source": [
    "# USA\n",
    "# y_true: true labels of the test set\n",
    "# y_pred: predicted probabilities for the positive class\n",
    "\n",
    "fpr_ditto_confidence, tpr_ditto_confidence, thresholds_ditto_confidence = roc_curve(usa_sub.c_full, usa_sub.ditto_confidence)\n",
    "roc_auc_ditto_confidence = auc(fpr_ditto_confidence, tpr_ditto_confidence)\n",
    "\n",
    "fpr_ditto_no_loc_label_confidence, tpr_ditto_no_loc_label_confidence, thresholds_ditto_no_loc_label_confidence = roc_curve(usa_sub.c_no_loc, usa_sub.ditto_no_loc_label_confidence)\n",
    "roc_auc_ditto_no_loc_label_confidence = auc(fpr_ditto_no_loc_label_confidence, tpr_ditto_no_loc_label_confidence)\n",
    "\n",
    "fpr_ditto_unparsed_confidence, tpr_ditto_unparsed_confidence, thresholds_ditto_unparsed_confidence = roc_curve(usa_sub.c_unparsed, usa_sub.ditto_unparsed_confidence)\n",
    "roc_auc_ditto_unparsed_confidence = auc(fpr_ditto_unparsed_confidence, tpr_ditto_unparsed_confidence)\n",
    "\n",
    "fpr_ditto_our_confidence, tpr_ditto_our_confidence, thresholds_ditto_our_confidence = roc_curve(usa_sub.c_our, usa_sub.ditto_our_confidence)\n",
    "roc_auc_ditto_our_confidence = auc(fpr_ditto_our_confidence, tpr_ditto_our_confidence)\n",
    "\n",
    "fpr_gpt_confidence, tpr_gpt_confidence, thresholds_gpt_confidence = roc_curve(usa_sub.gpt, usa_sub.GPT_confidence)\n",
    "roc_auc_gpt_confidence = auc(fpr_gpt_confidence, tpr_gpt_confidence)\n",
    "\n",
    "plt.plot(fpr_ditto_confidence, tpr_ditto_confidence, lw=1, label='ROC curve FULL (AUC = %0.2f)' % roc_auc_ditto_confidence)\n",
    "plt.plot(fpr_ditto_no_loc_label_confidence, tpr_ditto_no_loc_label_confidence, lw=1, label='ROC curve NO LOC (AUC = %0.2f)' % roc_auc_ditto_no_loc_label_confidence)\n",
    "plt.plot(fpr_ditto_unparsed_confidence, tpr_ditto_unparsed_confidence, lw=1, label='ROC curve Unparsed (AUC = %0.2f)' % roc_auc_ditto_unparsed_confidence)\n",
    "plt.plot(fpr_ditto_our_confidence, tpr_ditto_our_confidence, lw=1, label='ROC curve Text-Based (AUC = %0.2f)' % roc_auc_ditto_our_confidence)\n",
    "plt.plot(fpr_gpt_confidence, tpr_gpt_confidence, lw=1, label='ROC curve GPT (AUC = %0.2f)' % roc_auc_gpt_confidence)\n",
    "plt.plot([0, 1], [0, 1], '--', color='gray', label='Random guessing')\n",
    "plt.xlim([0.0, 1.0])\n",
    "plt.ylim([0.0, 1.05])\n",
    "plt.xlabel('False Positive Rate')\n",
    "plt.ylabel('True Positive Rate')\n",
    "plt.title('Receiver Operating Characteristic USA')\n",
    "plt.legend(loc=\"lower right\")\n",
    "plt.show()"
   ]
  },
  {
   "cell_type": "code",
   "execution_count": null,
   "metadata": {},
   "outputs": [],
   "source": [
    "# All countries\n",
    "# y_true: true labels of the test set\n",
    "# y_pred: predicted probabilities for the positive class\n",
    "\n",
    "fpr_ditto_confidence, tpr_ditto_confidence, thresholds_ditto_confidence = roc_curve(all_countries[\"c_full\"], all_countries[\"ditto_confidence\"])\n",
    "roc_auc_ditto_confidence = auc(fpr_ditto_confidence, tpr_ditto_confidence)\n",
    "\n",
    "fpr_ditto_no_loc_label_confidence, tpr_ditto_no_loc_label_confidence, thresholds_ditto_no_loc_label_confidence = roc_curve(all_countries[\"c_no_loc\"], all_countries[\"ditto_no_loc_label_confidence\"])\n",
    "roc_auc_ditto_no_loc_label_confidence = auc(fpr_ditto_no_loc_label_confidence, tpr_ditto_no_loc_label_confidence)\n",
    "\n",
    "fpr_ditto_unparsed_confidence, tpr_ditto_unparsed_confidence, thresholds_ditto_unparsed_confidence = roc_curve(all_countries[\"c_unparsed\"], all_countries[\"ditto_unparsed_confidence\"])\n",
    "roc_auc_ditto_unparsed_confidence = auc(fpr_ditto_unparsed_confidence, tpr_ditto_unparsed_confidence)\n",
    "\n",
    "fpr_ditto_our_confidence, tpr_ditto_our_confidence, thresholds_ditto_our_confidence = roc_curve(all_countries[\"c_our\"], all_countries[\"ditto_our_confidence\"])\n",
    "roc_auc_ditto_our_confidence = auc(fpr_ditto_our_confidence, tpr_ditto_our_confidence)\n",
    "\n",
    "fpr_gpt_confidence, tpr_gpt_confidence, thresholds_gpt_confidence = roc_curve(all_countries.gpt, all_countries.GPT_confidence)\n",
    "roc_auc_gpt_confidence = auc(fpr_gpt_confidence, tpr_gpt_confidence)\n",
    "\n",
    "plt.plot(fpr_ditto_confidence, tpr_ditto_confidence, lw=1, label='ROC curve FULL (AUC = %0.2f)' % roc_auc_ditto_confidence)\n",
    "plt.plot(fpr_ditto_no_loc_label_confidence, tpr_ditto_no_loc_label_confidence, lw=1, label='ROC curve NO LOC (AUC = %0.2f)' % roc_auc_ditto_no_loc_label_confidence)\n",
    "plt.plot(fpr_ditto_unparsed_confidence, tpr_ditto_unparsed_confidence, lw=1, label='ROC curve Unparsed (AUC = %0.2f)' % roc_auc_ditto_unparsed_confidence)\n",
    "plt.plot(fpr_ditto_our_confidence, tpr_ditto_our_confidence, lw=1, label='ROC curve Text-Based (AUC = %0.2f)' % roc_auc_ditto_our_confidence)\n",
    "plt.plot(fpr_gpt_confidence, tpr_gpt_confidence, lw=1, label='ROC curve GPT (AUC = %0.2f)' % roc_auc_gpt_confidence)\n",
    "plt.plot([0, 1], [0, 1], '--', color='gray', label='Random guessing')\n",
    "plt.xlim([0.0, 1.0])\n",
    "plt.ylim([0.0, 1.05])\n",
    "plt.xlabel('False Positive Rate')\n",
    "plt.ylabel('True Positive Rate')\n",
    "plt.title('Receiver Operating Characteristic All Countries')\n",
    "plt.legend(loc=\"lower right\")\n",
    "plt.show()"
   ]
  }
 ],
 "metadata": {
  "kernelspec": {
   "display_name": "Python 3",
   "language": "python",
   "name": "python3"
  },
  "language_info": {
   "codemirror_mode": {
    "name": "ipython",
    "version": 3
   },
   "file_extension": ".py",
   "mimetype": "text/x-python",
   "name": "python",
   "nbconvert_exporter": "python",
   "pygments_lexer": "ipython3",
   "version": "3.7.7"
  },
  "orig_nbformat": 4
 },
 "nbformat": 4,
 "nbformat_minor": 2
}
