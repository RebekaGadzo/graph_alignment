{
 "cells": [
  {
   "cell_type": "code",
   "execution_count": null,
   "metadata": {},
   "outputs": [],
   "source": [
    "#! pip install basemap\n",
    "\n",
    "import pandas as pd\n",
    "import matplotlib.pyplot as plt\n",
    "from mpl_toolkits.basemap import Basemap"
   ]
  },
  {
   "cell_type": "code",
   "execution_count": 28,
   "metadata": {},
   "outputs": [],
   "source": [
    "#data = pd.read_csv('../data_preparation/data/COYPU_prep_data.csv')\n",
    "data = pd.read_csv('../data_preparation/data/SCM_prep_data.csv')\n",
    "\n",
    "lat = data['lat'].tolist()\n",
    "lon = data['long'].tolist()\n",
    "\n",
    "lat_de = data[data.Country == 'DE']['lat'].tolist()\n",
    "lon_de = data[data.Country == 'DE']['long'].tolist()\n",
    "\n",
    "lat_us = data[data.Country == 'US']['lat'].tolist()\n",
    "lon_us = data[data.Country == 'US']['long'].tolist()\n",
    "\n",
    "lat_cn = data[data.Country == 'CN']['lat'].tolist()\n",
    "lon_cn = data[data.Country == 'CN']['long'].tolist()"
   ]
  },
  {
   "cell_type": "code",
   "execution_count": null,
   "metadata": {},
   "outputs": [],
   "source": [
    "fig = plt.figure(figsize=(16,12))\n",
    "\n",
    "# Whole world\n",
    "m = Basemap(projection = 'mill', llcrnrlat = -90, urcrnrlat = 90, llcrnrlon = -180, urcrnrlon = 180, resolution = 'c')\n",
    "\n",
    "m.drawcoastlines(color='#aaa')\n",
    "m.drawcountries(color='#aaa')\n",
    "m.drawstates(color='#aaa')\n",
    "\n",
    "#m.shadedrelief()\n",
    "\n",
    "\n",
    "m.scatter(lon_de, lat_de, latlon = True, s = 1, c = 'red', marker = 'o', alpha = 1)\n",
    "m.scatter(lon_us, lat_us, latlon = True, s = 1, c = 'green', marker = 'o', alpha = 1)\n",
    "m.scatter(lon_cn, lat_cn, latlon = True, s = 1, c = 'blue', marker = 'o', alpha = 1)\n",
    "\n",
    "plt.show()\n",
    "\n"
   ]
  },
  {
   "cell_type": "code",
   "execution_count": null,
   "metadata": {},
   "outputs": [],
   "source": [
    "# China Coypu\n",
    "ll_lon, ur_lon, ll_lat, ur_lat = 72, 136, 16, 54\n",
    "m = Basemap(\n",
    "     projection='merc', lon_0=0, resolution='l',\n",
    "     llcrnrlon = ll_lon, urcrnrlon = ur_lon,\n",
    "     llcrnrlat = ll_lat, urcrnrlat = ur_lat,\n",
    ")\n",
    "\n",
    "m.drawcoastlines(color='#aaa')\n",
    "m.drawcountries(color='#aaa')\n",
    "m.drawstates(color='#aaa')\n",
    "# m.shadedrelief()\n",
    "\n",
    "m.scatter(lon_cn, lat_cn, latlon = True, s = 10, c = 'red', marker = 'o', alpha = 1)\n",
    "\n",
    "plt.show()"
   ]
  },
  {
   "cell_type": "code",
   "execution_count": null,
   "metadata": {},
   "outputs": [],
   "source": [
    "# China SCM\n",
    "ll_lon, ur_lon, ll_lat, ur_lat = 72, 136, 16, 54\n",
    "m = Basemap(\n",
    "     projection='merc', lon_0=0, resolution='l',\n",
    "     llcrnrlon = ll_lon, urcrnrlon = ur_lon,\n",
    "     llcrnrlat = ll_lat, urcrnrlat = ur_lat,\n",
    ")\n",
    "\n",
    "m.drawcoastlines(color='#aaa')\n",
    "m.drawcountries(color='#aaa')\n",
    "m.drawstates(color='#aaa')\n",
    "# m.shadedrelief()\n",
    "\n",
    "m.scatter(lon_cn, lat_cn, latlon = True, s = 10, c = 'blue', marker = 'o', alpha = 1)\n",
    "\n",
    "plt.show()"
   ]
  },
  {
   "cell_type": "code",
   "execution_count": null,
   "metadata": {},
   "outputs": [],
   "source": [
    "# Germany CoyPu\n",
    "ll_lon, ur_lon, ll_lat, ur_lat = 5.5, 15.5, 47, 55.5\n",
    "m = Basemap(\n",
    "     projection='merc', lon_0=0, resolution='l',\n",
    "     llcrnrlon = ll_lon, urcrnrlon = ur_lon,\n",
    "     llcrnrlat = ll_lat, urcrnrlat = ur_lat,\n",
    ")\n",
    "\n",
    "m.drawcoastlines(color='#555')\n",
    "m.drawcountries(color='#ccc')\n",
    "m.drawstates(color='#aaa')\n",
    "\n",
    "# m.bluemarble()\n",
    "\n",
    "m.scatter(lon_de, lat_de, latlon = True, s = 10, c = 'red', marker = 'o', alpha = 1)\n",
    "\n",
    "plt.show()\n"
   ]
  },
  {
   "cell_type": "code",
   "execution_count": null,
   "metadata": {},
   "outputs": [],
   "source": [
    "# Germany SCM\n",
    "ll_lon, ur_lon, ll_lat, ur_lat = 5.5, 15.5, 47, 55.5\n",
    "m = Basemap(\n",
    "     projection='merc', lon_0=0, resolution='l',\n",
    "     llcrnrlon = ll_lon, urcrnrlon = ur_lon,\n",
    "     llcrnrlat = ll_lat, urcrnrlat = ur_lat,\n",
    ")\n",
    "\n",
    "m.drawcoastlines(color='#555')\n",
    "m.drawcountries(color='#ccc')\n",
    "m.drawstates(color='#aaa')\n",
    "\n",
    "# m.bluemarble()\n",
    "\n",
    "m.scatter(lon_de, lat_de, latlon = True, s = 10, c = 'blue', marker = 'o', alpha = 1)\n",
    "\n",
    "plt.show()\n"
   ]
  },
  {
   "cell_type": "code",
   "execution_count": null,
   "metadata": {},
   "outputs": [],
   "source": [
    "# US COYPU\n",
    "ll_lon, ur_lon, ll_lat, ur_lat = -150, -58, 22, 62\n",
    "m = Basemap(\n",
    "     projection='merc', lon_0=0, resolution='l',\n",
    "     llcrnrlon = ll_lon, urcrnrlon = ur_lon,\n",
    "     llcrnrlat = ll_lat, urcrnrlat = ur_lat,\n",
    ")\n",
    "\n",
    "m.drawcoastlines(color='#555')\n",
    "m.drawcountries(color='#ccc')\n",
    "m.drawstates(color='#aaa')\n",
    "\n",
    "# m.bluemarble()\n",
    "\n",
    "m.scatter(lon_us, lat_us, latlon = True, s = 1, c = 'red', marker = 'o', alpha = 1)\n",
    "\n",
    "plt.show()"
   ]
  },
  {
   "cell_type": "code",
   "execution_count": null,
   "metadata": {},
   "outputs": [],
   "source": [
    "# US SCM\n",
    "ll_lon, ur_lon, ll_lat, ur_lat = -150, -58, 22, 62\n",
    "m = Basemap(\n",
    "     projection='merc', lon_0=0, resolution='l',\n",
    "     llcrnrlon = ll_lon, urcrnrlon = ur_lon,\n",
    "     llcrnrlat = ll_lat, urcrnrlat = ur_lat,\n",
    ")\n",
    "\n",
    "m.drawcoastlines(color='#555')\n",
    "m.drawcountries(color='#ccc')\n",
    "m.drawstates(color='#aaa')\n",
    "\n",
    "# m.bluemarble()\n",
    "\n",
    "m.scatter(lon_us, lat_us, latlon = True, s = 1, c = 'blue', marker = 'o', alpha = 1)\n",
    "\n",
    "plt.show()"
   ]
  }
 ],
 "metadata": {
  "kernelspec": {
   "display_name": "Python 3",
   "language": "python",
   "name": "python3"
  },
  "language_info": {
   "codemirror_mode": {
    "name": "ipython",
    "version": 3
   },
   "file_extension": ".py",
   "mimetype": "text/x-python",
   "name": "python",
   "nbconvert_exporter": "python",
   "pygments_lexer": "ipython3",
   "version": "3.7.7"
  },
  "orig_nbformat": 4
 },
 "nbformat": 4,
 "nbformat_minor": 2
}
