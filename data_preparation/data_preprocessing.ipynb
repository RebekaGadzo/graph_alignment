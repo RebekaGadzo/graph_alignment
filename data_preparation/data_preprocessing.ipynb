{
 "cells": [
  {
   "attachments": {},
   "cell_type": "markdown",
   "metadata": {},
   "source": [
    "This notebook will prepare data in the following order:\n",
    "1. Detect Unicode characters and replace them with their ASCII counterpart\n",
    "2. German Characters (replaces ger chars to international chars)\n",
    "3. Lower + Company's legal structure (Replaces upper case letters to lower and drops company's legal structure such as: co, gmbh, llc...) \n",
    "4. Chinese translate (translates chinese characters to english)\n",
    "5. Extract location (extracts location from brackets in scm data to an additional column)\t\t\t\n",
    "6. Cleaning extracted location info from company name (only SCM)"
   ]
  },
  {
   "attachments": {},
   "cell_type": "markdown",
   "metadata": {},
   "source": [
    "Imports and packages"
   ]
  },
  {
   "cell_type": "code",
   "execution_count": 2,
   "metadata": {},
   "outputs": [],
   "source": [
    "#! pip install levenshtein\n",
    "#! pip install pandas\n",
    "#! pip install googletrans==3.1.0a0\n",
    "#! pip install https://github.com/explosion/spacy-models/releases/download/de_core_news_lg-3.2.0/de_core_news_lg-3.2.0-py3-none-any.whl\n",
    "#! pip install spacy\n",
    "#spacy.cli.download(\"en_core_web_lg\")\n",
    "import warnings\n",
    "warnings.filterwarnings(\"ignore\")\n",
    "%load_ext autoreload\n",
    "%autoreload 2\n",
    "import spacy\n",
    "import data_prep_util as util_prep\n",
    "import data_prep_consts as consts_prep"
   ]
  },
  {
   "cell_type": "code",
   "execution_count": 3,
   "metadata": {},
   "outputs": [],
   "source": [
    "coypu_cities_original = util_prep.read_csv_file(consts_prep.COYPU_CITIES_PATH)\n",
    "scm_original = util_prep.read_csv_file(consts_prep.SCM_PATH)"
   ]
  },
  {
   "cell_type": "code",
   "execution_count": 4,
   "metadata": {},
   "outputs": [],
   "source": [
    "# read in data\n",
    "coypu_cities = util_prep.read_csv_file(consts_prep.COYPU_CITIES_PATH)\n",
    "scm = util_prep.read_csv_file(consts_prep.SCM_PATH)\n",
    "\n",
    "#change column names and detect important countries in scm data\n",
    "coypu_cities = util_prep.prepare_columns_coypu(coypu_cities)\n",
    "scm_sub = util_prep.prepare_columns_scm(scm)"
   ]
  },
  {
   "attachments": {},
   "cell_type": "markdown",
   "metadata": {},
   "source": [
    "Unicode"
   ]
  },
  {
   "cell_type": "code",
   "execution_count": 5,
   "metadata": {},
   "outputs": [],
   "source": [
    "coypu_cities['city'] = coypu_cities['city'].map(util_prep.replace_float_city)"
   ]
  },
  {
   "cell_type": "code",
   "execution_count": 6,
   "metadata": {},
   "outputs": [],
   "source": [
    "#clone name column\n",
    "coypu_cities['Parsed_Company'] = coypu_cities['Company']\n",
    "coypu_cities['Parsed_City'] = coypu_cities['city']\n",
    "scm_sub['Parsed_Company'] = scm_sub['Company']\n",
    "\n",
    "#unicode\n",
    "coypu_cities['Parsed_Company'] = coypu_cities['Parsed_Company'].map(util_prep.normalize_unicode)\n",
    "coypu_cities['Parsed_City'] = coypu_cities['Parsed_City'].map(util_prep.normalize_unicode)\n",
    "scm_sub['Parsed_Company'] = scm_sub['Parsed_Company'].map(util_prep.normalize_unicode)"
   ]
  },
  {
   "attachments": {},
   "cell_type": "markdown",
   "metadata": {},
   "source": [
    "Replace German Characters"
   ]
  },
  {
   "cell_type": "code",
   "execution_count": 7,
   "metadata": {},
   "outputs": [],
   "source": [
    "#replace german characters\n",
    "coypu_cities['Parsed_Company'] = coypu_cities['Parsed_Company'].map(util_prep.change_umlaut)\n",
    "coypu_cities['Parsed_City'] = coypu_cities['Parsed_City'].map(util_prep.change_umlaut)\n",
    "scm_sub['Parsed_Company'] = scm_sub['Parsed_Company'].map(util_prep.change_umlaut)"
   ]
  },
  {
   "attachments": {},
   "cell_type": "markdown",
   "metadata": {},
   "source": [
    "Translator (CH to EN)"
   ]
  },
  {
   "cell_type": "code",
   "execution_count": null,
   "metadata": {},
   "outputs": [],
   "source": [
    "from googletrans import Translator\n",
    "\n",
    "GROUP_SIZE = 100\n",
    "\n",
    "translator = Translator()\n",
    "\n",
    "wf = open('./data/chinese_translations.txt', 'a', encoding='utf-8')\n",
    "\n",
    "group_index_start = -1\n",
    "current_group = []\n",
    "\n",
    "for index, row in coypu_cities.iterrows():\n",
    "\n",
    "    if row['Country'] != 'CN':\n",
    "        continue\n",
    "    \n",
    "    if len(current_group) >= GROUP_SIZE:\n",
    "        print('Translating content:\\n', current_group)\n",
    "\n",
    "        translated_content = translator.translate(\n",
    "            src=\"zh-CN\", dest=\"en\", text=current_group)\n",
    "\n",
    "        for i in range(len(translated_content)):\n",
    "            wf.write(str(group_index_start + i) + ', ' + translated_content[i].text + '\\n')\n",
    "\n",
    "        current_group = []\n",
    "\n",
    "    if len(current_group) == 0:\n",
    "        group_index_start = index\n",
    "\n",
    "    current_group.append(row['Company'])\n",
    "\n",
    "if len(current_group) >= 0:\n",
    "        print('Translating content:\\n', current_group)\n",
    "\n",
    "        translated_content = translator.translate(\n",
    "            src=\"zh-CN\", dest=\"en\", text=current_group)\n",
    "\n",
    "        for i in range(len(translated_content)):\n",
    "            wf.write(str(group_index_start + i) + ', ' + translated_content[i].text + '\\n')\n",
    "\n",
    "        current_group = []\n",
    "        \n",
    "wf.close()"
   ]
  },
  {
   "cell_type": "code",
   "execution_count": null,
   "metadata": {},
   "outputs": [],
   "source": [
    "from googletrans import Translator\n",
    "import time\n",
    "\n",
    "GROUP_SIZE = 50\n",
    "\n",
    "translator = Translator()\n",
    "\n",
    "wf = open('./data/chinese_translations_cities.txt', 'a', encoding='utf-8')\n",
    "\n",
    "group_index_start = -1\n",
    "current_group = []\n",
    "\n",
    "for index, row in coypu_cities.iterrows():\n",
    "\n",
    "    if row['Country'] != 'CN':\n",
    "        continue\n",
    "\n",
    "    if len(current_group) >= GROUP_SIZE:\n",
    "        print('Translating content:\\n', current_group)\n",
    "\n",
    "        while True:\n",
    "            try:\n",
    "                translated_content = translator.translate(\n",
    "                    src=\"zh-CN\", dest=\"en\", text=current_group)\n",
    "                break \n",
    "            \n",
    "            except:\n",
    "                print('translating group failed, waiting 100 sec before trying again')\n",
    "                time.sleep(100)\n",
    "                print('reattempting to translate group')\n",
    "                continue\n",
    "            \n",
    "        for i in range(len(translated_content)):\n",
    "            wf.write(str(group_index_start + i) + ', ' + translated_content[i].text + '\\n')\n",
    "\n",
    "        current_group = []\n",
    "\n",
    "    if len(current_group) == 0:\n",
    "        group_index_start = index\n",
    "\n",
    "    current_group.append(row['city'])\n",
    "\n",
    "if len(current_group) >= 0:\n",
    "        print('Translating content:\\n', current_group)\n",
    "\n",
    "        while True:\n",
    "            try:\n",
    "                translated_content = translator.translate(\n",
    "                    src=\"zh-CN\", dest=\"en\", text=current_group)\n",
    "                break \n",
    "            except:\n",
    "                print('translating group failed, waiting 100 sec before trying again')\n",
    "                time.sleep(100)\n",
    "                print('reattempting to translate group')\n",
    "                continue\n",
    "            \n",
    "        for i in range(len(translated_content)):\n",
    "            wf.write(str(group_index_start + i) + ', ' + translated_content[i].text + '\\n')\n",
    "\n",
    "        current_group = []\n",
    "        \n",
    "wf.close()"
   ]
  },
  {
   "cell_type": "code",
   "execution_count": 8,
   "metadata": {},
   "outputs": [],
   "source": [
    "import pandas as pd\n",
    "ch = pd.read_csv('./data/chinese_translations.txt', usecols= ['Index','Company'])                   #manually added column names\n",
    "ch_cities = pd.read_csv('./data/chinese_translations_cities.txt', usecols= ['Index','Parsed_City']) #manually added column names"
   ]
  },
  {
   "attachments": {},
   "cell_type": "markdown",
   "metadata": {},
   "source": [
    "Add translated Names to Dataframe"
   ]
  },
  {
   "cell_type": "code",
   "execution_count": 9,
   "metadata": {},
   "outputs": [],
   "source": [
    "coypu_ch_start_index = ch['Index'][0] \n",
    "coypu_ch_end_index = (int(ch['Index'].tail(1)) + 1) \n",
    "\n",
    "coypu_ch_city_start_index = ch_cities['Index'][0] \n",
    "coypu_ch_city_end_index = (int(ch_cities['Index'].tail(1)) + 1) \n",
    "\n",
    "coypu_cities['Parsed_Company'][coypu_ch_start_index:coypu_ch_end_index] = ch['Company']\n",
    "coypu_cities['Parsed_City'][coypu_ch_city_start_index:coypu_ch_city_end_index] = ch_cities['Parsed_City']"
   ]
  },
  {
   "cell_type": "code",
   "execution_count": 10,
   "metadata": {},
   "outputs": [],
   "source": [
    "#replace translated chinese names\n",
    "coypu_cities['Parsed_Company'] = util_prep.replace_chinese_translation(coypu_cities['Parsed_Company'], coypu_cities, 'company')\n",
    "coypu_cities['Parsed_City'] = util_prep.replace_chinese_translation(coypu_cities['Parsed_City'], coypu_cities, 'city')"
   ]
  },
  {
   "attachments": {},
   "cell_type": "markdown",
   "metadata": {},
   "source": [
    "Export Location Info from Brackets SCM"
   ]
  },
  {
   "cell_type": "code",
   "execution_count": 11,
   "metadata": {},
   "outputs": [],
   "source": [
    "scm_sub['Location'] = scm_sub['Parsed_Company'].map(util_prep.find_brackets_in_string)"
   ]
  },
  {
   "attachments": {},
   "cell_type": "markdown",
   "metadata": {},
   "source": [
    "Clean entries (removing unnecessary words and transforming to lower case)"
   ]
  },
  {
   "cell_type": "code",
   "execution_count": 12,
   "metadata": {},
   "outputs": [],
   "source": [
    "util_prep.clear_company_content(scm_sub)"
   ]
  },
  {
   "attachments": {},
   "cell_type": "markdown",
   "metadata": {},
   "source": [
    "Remove Location Info"
   ]
  },
  {
   "cell_type": "code",
   "execution_count": 13,
   "metadata": {},
   "outputs": [],
   "source": [
    "scm_sub['Location'] = scm_sub['Location'].map(util_prep.clear_location_column)\n",
    "coypu_cities['Parsed_City'] = coypu_cities['Parsed_City'].map(lambda city: city.lower())\\\n",
    "                                                         .map(util_prep.normalize_unicode)\\\n",
    "                                                         .map(util_prep.change_umlaut)"
   ]
  },
  {
   "attachments": {},
   "cell_type": "markdown",
   "metadata": {},
   "source": [
    "Clean Company Descriptors\n"
   ]
  },
  {
   "cell_type": "code",
   "execution_count": 14,
   "metadata": {},
   "outputs": [],
   "source": [
    "coypu_cities['Parsed_Company'] = coypu_cities['Parsed_Company'].map(util_prep.clear_company_name)\n",
    "scm_sub['Parsed_Company'] = scm_sub['Parsed_Company'].map(util_prep.clear_company_name)"
   ]
  },
  {
   "cell_type": "code",
   "execution_count": 15,
   "metadata": {},
   "outputs": [],
   "source": [
    "scm_sub['Parsed_Company'] = scm_sub['Parsed_Company'].map(util_prep.clear_comp_name_column)"
   ]
  },
  {
   "attachments": {},
   "cell_type": "markdown",
   "metadata": {},
   "source": [
    "Extract Company Legal Form"
   ]
  },
  {
   "cell_type": "code",
   "execution_count": 16,
   "metadata": {},
   "outputs": [],
   "source": [
    "company_prep_cat_coy = coypu_cities['Company'].map(lambda company: company.lower().strip())\\\n",
    "                                          .map(util_prep.change_umlaut)\n",
    "                                                          \n",
    "coypu_cities['Company_Category'] = list(map(util_prep.company_category, company_prep_cat_coy, coypu_cities['Country']))"
   ]
  },
  {
   "cell_type": "code",
   "execution_count": 17,
   "metadata": {},
   "outputs": [],
   "source": [
    "company_prep_cat_scm = scm_sub['Company'].map(lambda company: company.lower().strip())\\\n",
    "                                         .map(util_prep.change_umlaut)\n",
    "                                                          \n",
    "                                                          \n",
    "scm_sub['Company_Category'] = list(map(util_prep.company_category, company_prep_cat_scm, scm_sub['Country']))"
   ]
  },
  {
   "cell_type": "code",
   "execution_count": 18,
   "metadata": {},
   "outputs": [],
   "source": [
    "coypu_cities['Parsed_Company'] = coypu_cities['Parsed_Company'].map(util_prep.remove_suffixes)\n",
    "scm_sub['Parsed_Company'] = scm_sub['Parsed_Company'].map(util_prep.remove_suffixes)"
   ]
  },
  {
   "cell_type": "code",
   "execution_count": 20,
   "metadata": {},
   "outputs": [],
   "source": [
    "coypu_cities.Company_Category.fillna('', inplace = True)\n",
    "scm_sub.Company_Category.fillna('', inplace = True)"
   ]
  },
  {
   "cell_type": "code",
   "execution_count": 21,
   "metadata": {},
   "outputs": [],
   "source": [
    "scm_sub['Location'] = scm_sub['Location'].map(lambda location: location.lower())"
   ]
  },
  {
   "attachments": {},
   "cell_type": "markdown",
   "metadata": {},
   "source": [
    "Add Geolocation Info to the Data"
   ]
  },
  {
   "cell_type": "code",
   "execution_count": 22,
   "metadata": {},
   "outputs": [],
   "source": [
    "scm_sub.to_csv('./geolocation/SCM_geo.csv', index = False)\n",
    "coypu_cities.to_csv('./geolocation/COYPU_geo.csv', index = False)"
   ]
  },
  {
   "cell_type": "code",
   "execution_count": 54,
   "metadata": {},
   "outputs": [],
   "source": [
    "coypu_geoloc = pd.read_csv('./geolocation/coypu_geolocate.csv')\n",
    "scm_geoloc = pd.read_csv('./geolocation/SCM_geolocate.csv')"
   ]
  },
  {
   "attachments": {},
   "cell_type": "markdown",
   "metadata": {},
   "source": [
    "Add Longitude and Latitude"
   ]
  },
  {
   "cell_type": "code",
   "execution_count": 55,
   "metadata": {},
   "outputs": [],
   "source": [
    "coypu_cities['long'] = coypu_geoloc['long']\n",
    "coypu_cities['lat'] = coypu_geoloc['lat']\n",
    "\n",
    "scm_sub['long'] = scm_geoloc['long']\n",
    "scm_sub['lat'] = scm_geoloc['lat']"
   ]
  },
  {
   "cell_type": "code",
   "execution_count": null,
   "metadata": {},
   "outputs": [],
   "source": [
    "import en_core_web_lg\n",
    "\n",
    "nlp = en_core_web_lg.load()\n",
    "nlp = spacy.load('en_core_web_lg')\n",
    "\n",
    "count = 0\n",
    "\n",
    "def detect_cities(value):\n",
    "    global count\n",
    "\n",
    "    doc = nlp(value)\n",
    "\n",
    "    count += 1\n",
    "\n",
    "    for ent in doc.ents:\n",
    "\n",
    "        if ent.label_ == 'GPE' and ent.text != 'DE' and ent.text != 'US' and ent.text != 'CN':\n",
    "            print(ent.text, ' | ', count / len(coypu_cities['Parsed_Company']) * 100, '%')\n",
    "            return ent.text\n",
    "\n",
    "    return ''\n",
    "\n",
    "\n",
    "coypu_cities['Location'] = coypu_cities['Parsed_Company'].map(detect_cities)\n",
    "\n",
    "coypu_cities.to_csv('companies_with_locations.csv', columns = ['company', 'Location'])\n"
   ]
  },
  {
   "attachments": {},
   "cell_type": "markdown",
   "metadata": {},
   "source": [
    "Export Prepared Data"
   ]
  },
  {
   "cell_type": "code",
   "execution_count": 58,
   "metadata": {},
   "outputs": [],
   "source": [
    "scm_sub.to_csv('./data/SCM_prep_data.csv', index = False)\n",
    "coypu_cities.to_csv('./data/COYPU_prep_data.csv', index = False)"
   ]
  }
 ],
 "metadata": {
  "kernelspec": {
   "display_name": ".env",
   "language": "python",
   "name": "python3"
  },
  "language_info": {
   "codemirror_mode": {
    "name": "ipython",
    "version": 3
   },
   "file_extension": ".py",
   "mimetype": "text/x-python",
   "name": "python",
   "nbconvert_exporter": "python",
   "pygments_lexer": "ipython3",
   "version": "3.7.7"
  },
  "orig_nbformat": 4,
  "vscode": {
   "interpreter": {
    "hash": "9e594a18fc41476cfb60def69fecdfe7f0afb026770a5fd85270d3969b94f381"
   }
  }
 },
 "nbformat": 4,
 "nbformat_minor": 2
}
